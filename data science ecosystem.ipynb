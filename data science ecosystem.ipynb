{
 "cells": [
  {
   "cell_type": "markdown",
   "id": "69f70721",
   "metadata": {},
   "source": [
    "## Data Science Tools and ecosystems \n",
    "\n",
    "In this notebook data science tools and ecosystems are summarised.\n",
    "\n",
    "# Objectives:\n",
    "\n",
    "-  Popular languages of data science\n",
    "-  Commonly used libraries \n",
    "-  jupyter notebook\n",
    "-  Github \n",
    "-  Anaconda \n",
    "\n",
    "## Author \n",
    "Afrah Malik\n",
    "\n",
    "\n",
    "\n",
    "\n",
    "Some of the languages used by data scientist are:\n",
    "1. Python\n",
    "2. R programming\n",
    "3. SQL\n",
    "\n",
    "Some of the commonly used libraries used by data scientist includes:\n",
    "1. Pandas\n",
    "2. Matpotlib\n",
    "3. ggplot\n",
    "\n",
    "___Data Science tools___\n",
    "Apache spark\n",
    "Tensor flow\n",
    "Jupyter notebook\n",
    "\n",
    "### Below are a few examples of evaluating arithmetic expressions in Python\n",
    "\n",
    "\n",
    "\n",
    "\n"
   ]
  },
  {
   "cell_type": "code",
   "execution_count": 1,
   "id": "6743330f",
   "metadata": {},
   "outputs": [
    {
     "data": {
      "text/plain": [
       "17"
      ]
     },
     "execution_count": 1,
     "metadata": {},
     "output_type": "execute_result"
    }
   ],
   "source": [
    "(3*4)+5\n",
    "# This is a simple arithmatic expression to multiply and  add the integers\n"
   ]
  },
  {
   "cell_type": "code",
   "execution_count": 6,
   "id": "9dbfd2e0",
   "metadata": {},
   "outputs": [
    {
     "data": {
      "text/plain": [
       "3.3333333333333335"
      ]
     },
     "execution_count": 6,
     "metadata": {},
     "output_type": "execute_result"
    }
   ],
   "source": [
    "h=200/60\n",
    "# this will convert minutes to hour by dividing with 60\n",
    "h"
   ]
  },
  {
   "cell_type": "code",
   "execution_count": null,
   "id": "e1f2a6bf",
   "metadata": {},
   "outputs": [],
   "source": []
  }
 ],
 "metadata": {
  "kernelspec": {
   "display_name": "Python 3 (ipykernel)",
   "language": "python",
   "name": "python3"
  },
  "language_info": {
   "codemirror_mode": {
    "name": "ipython",
    "version": 3
   },
   "file_extension": ".py",
   "mimetype": "text/x-python",
   "name": "python",
   "nbconvert_exporter": "python",
   "pygments_lexer": "ipython3",
   "version": "3.11.4"
  }
 },
 "nbformat": 4,
 "nbformat_minor": 5
}
